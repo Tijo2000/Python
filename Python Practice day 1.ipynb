{
 "cells": [
  {
   "cell_type": "markdown",
   "metadata": {},
   "source": [
    "#Python Interview Questions\n",
    "Day 1"
   ]
  },
  {
   "cell_type": "code",
   "execution_count": 1,
   "metadata": {},
   "outputs": [
    {
     "name": "stdout",
     "output_type": "stream",
     "text": [
      "1\n",
      "3\n",
      "5\n",
      "7\n",
      "9\n",
      "Access first three items individually\n",
      "1\n",
      "3\n",
      "5\n"
     ]
    }
   ],
   "source": [
    "#Array\n",
    "# Write a Python program to create an array of 5 integers and display the array items. Access individual elements through indexes.\n",
    "from array import *\n",
    "array_num = array('i', [1,3,5,7,9])\n",
    "for i in array_num:\n",
    "    print(i)\n",
    "print(\"Access first three items individually\")\n",
    "print(array_num[0])\n",
    "print(array_num[1])\n",
    "print(array_num[2])"
   ]
  },
  {
   "cell_type": "code",
   "execution_count": 6,
   "metadata": {},
   "outputs": [
    {
     "name": "stdout",
     "output_type": "stream",
     "text": [
      "Original arrayarray('i', [1, 3, 7, 9])\n",
      "New arrayarray('i', [1, 3, 7, 9, 11])\n"
     ]
    }
   ],
   "source": [
    "from array import *\n",
    "array_num = array(\"i\",[1,3,7,9])\n",
    "print(\"Original array\" + str(array_num))\n",
    "array_num.append(11)\n",
    "print(\"New array\" + str(array_num))"
   ]
  },
  {
   "cell_type": "code",
   "execution_count": 8,
   "metadata": {},
   "outputs": [
    {
     "name": "stdout",
     "output_type": "stream",
     "text": [
      "Original arrayarray('i', [1, 3, 7, 9])\n",
      "New arrayarray('i', [9, 7, 3, 1])\n"
     ]
    }
   ],
   "source": [
    "# 3. Write a Python program to reverse the order of the items in the array.\n",
    "from array import *\n",
    "array_num = array(\"i\",[1,3,7,9])\n",
    "print(\"Original array\" + str(array_num))\n",
    "array_num.reverse()\n",
    "print(\"New array\" + str(array_num))"
   ]
  },
  {
   "cell_type": "code",
   "execution_count": 10,
   "metadata": {},
   "outputs": [
    {
     "name": "stdout",
     "output_type": "stream",
     "text": [
      "8\n"
     ]
    }
   ],
   "source": [
    "# Write a Python function to find the maximum of three numbers.\n",
    "def max_of_two(x,y):\n",
    "    if x > y:\n",
    "        return x\n",
    "    else:\n",
    "        return y\n",
    "    \n",
    "def max_of_three(x, y , z):\n",
    "    return max_of_two(x, max_of_two(y,z))\n",
    "\n",
    "print(max_of_three(3,4,8))\n",
    "    \n"
   ]
  },
  {
   "cell_type": "code",
   "execution_count": 17,
   "metadata": {},
   "outputs": [
    {
     "name": "stdout",
     "output_type": "stream",
     "text": [
      "12\n"
     ]
    }
   ],
   "source": [
    "#Write a Python function to sum all the numbers in a list.\n",
    "def sum(n):\n",
    "    total = 0\n",
    "    for i in n:\n",
    "       total += i\n",
    "    return total\n",
    "print(sum((3,4,5)))\n",
    "    "
   ]
  },
  {
   "cell_type": "code",
   "execution_count": 20,
   "metadata": {},
   "outputs": [
    {
     "name": "stdout",
     "output_type": "stream",
     "text": [
      "48\n"
     ]
    }
   ],
   "source": [
    "#Write a Python function to multiply all the numbers in a list.\n",
    "def multiply(numbers):\n",
    "    total = 1 \n",
    "    for i in numbers:\n",
    "        total *=i\n",
    "    return total\n",
    "print(multiply((3,4,4,)))"
   ]
  },
  {
   "cell_type": "code",
   "execution_count": 22,
   "metadata": {},
   "outputs": [
    {
     "name": "stdout",
     "output_type": "stream",
     "text": [
      "dcba4321\n"
     ]
    }
   ],
   "source": [
    "def reverse_string(str):\n",
    "    return str[::-1]\n",
    "\n",
    "str1 = \"1234abcd\"\n",
    "str2 = reverse_string(str1)\n",
    "print(str2)"
   ]
  },
  {
   "cell_type": "code",
   "execution_count": 1,
   "metadata": {},
   "outputs": [],
   "source": [
    "def factorial(n):\n",
    "    # Check if the number 'n' is 0\n",
    "    if n == 0:\n",
    "        # If 'n' is 0, return 1 (factorial of 0 is 1)\n",
    "        return 1\n",
    "    else:\n",
    "        # If 'n' is not 0, recursively call the 'factorial' function with (n-1) and multiply it with 'n'\n",
    "        return n * factorial(n - 1)\n",
    "\n",
    "# Ask the user to input a number to compute its factorial and store it in variable 'n'\n",
    "n = int(input(\"Input a number to compute the factorial: \"))\n",
    "\n",
    "# Print the factorial of the number entered by the user by calling the 'factorial' function\n",
    "print(factorial(n))"
   ]
  },
  {
   "cell_type": "code",
   "execution_count": 1,
   "metadata": {},
   "outputs": [
    {
     "name": "stdout",
     "output_type": "stream",
     "text": [
      "The factorial of 5 is 120\n"
     ]
    }
   ],
   "source": [
    "def factorial(n):\n",
    "  \"\"\"\n",
    "  Calculates the factorial of a non-negative integer.\n",
    "\n",
    "  Args:\n",
    "      n: The non-negative integer for which to calculate the factorial.\n",
    "\n",
    "  Returns:\n",
    "      The factorial of n.\n",
    "\n",
    "  Raises:\n",
    "      ValueError: If n is negative.\n",
    "  \"\"\"\n",
    "\n",
    "  if n < 0:\n",
    "    raise ValueError(\"Factorial is not defined for negative numbers.\")\n",
    "\n",
    "  if n == 0:\n",
    "    return 1\n",
    "\n",
    "  # Use recursion to efficiently calculate the factorial\n",
    "  return n * factorial(n - 1)\n",
    "\n",
    "# Example usage\n",
    "number = 5\n",
    "result = factorial(number)\n",
    "print(f\"The factorial of {number} is {result}\")"
   ]
  },
  {
   "cell_type": "code",
   "execution_count": null,
   "metadata": {},
   "outputs": [],
   "source": []
  }
 ],
 "metadata": {
  "kernelspec": {
   "display_name": "Python 3",
   "language": "python",
   "name": "python3"
  },
  "language_info": {
   "codemirror_mode": {
    "name": "ipython",
    "version": 3
   },
   "file_extension": ".py",
   "mimetype": "text/x-python",
   "name": "python",
   "nbconvert_exporter": "python",
   "pygments_lexer": "ipython3",
   "version": "3.11.0"
  }
 },
 "nbformat": 4,
 "nbformat_minor": 2
}
