{
 "cells": [
  {
   "cell_type": "code",
   "execution_count": 1,
   "metadata": {},
   "outputs": [
    {
     "name": "stdout",
     "output_type": "stream",
     "text": [
      "diesel\n",
      "petrol\n"
     ]
    }
   ],
   "source": [
    "#Classes\n",
    "#constuctors , methods , attribues\n",
    "\n",
    "#classes - real world entity or object\n",
    "class Car:\n",
    "\n",
    "    pass\n",
    "\n",
    "car1 = Car()#object\n",
    "car2 = Car()#object\n",
    "\n",
    "car1.windows = 4\n",
    "car1.tyres = 4\n",
    "car1.engine = 'diesel'\n",
    "\n",
    "car2.windows = 6\n",
    "car2.tyres = 6\n",
    "car2.engine = 'petrol'\n",
    "\n",
    "print(car1.engine)\n",
    "print(car2.engine)\n",
    "\n",
    "\n"
   ]
  },
  {
   "cell_type": "code",
   "execution_count": 2,
   "metadata": {},
   "outputs": [
    {
     "name": "stdout",
     "output_type": "stream",
     "text": [
      "['__class__', '__delattr__', '__dict__', '__dir__', '__doc__', '__eq__', '__format__', '__ge__', '__getattribute__', '__getstate__', '__gt__', '__hash__', '__init__', '__init_subclass__', '__le__', '__lt__', '__module__', '__ne__', '__new__', '__reduce__', '__reduce_ex__', '__repr__', '__setattr__', '__sizeof__', '__str__', '__subclasshook__', '__weakref__', 'engine', 'tyres', 'windows']\n"
     ]
    }
   ],
   "source": [
    "print(dir(car1))"
   ]
  },
  {
   "cell_type": "code",
   "execution_count": 14,
   "metadata": {},
   "outputs": [
    {
     "name": "stdout",
     "output_type": "stream",
     "text": [
      "The number of tyres in object car1 is 4\n",
      "The number of tyres in object car1 is petrol\n",
      "The car types is electric\n"
     ]
    }
   ],
   "source": [
    "#Good Classes\n",
    "class Car:\n",
    "    #constructor\n",
    "    def __init__(self,windows,tyres,engines):#parameters\n",
    "        self.windows = windows #attribues\n",
    "        self.tyres = tyres\n",
    "        self.engines = engines\n",
    "    \n",
    "    def sel_driving(self,engine):\n",
    "        print(\"The car types is {}\".format(engine))\n",
    "    \n",
    "\n",
    "car1=Car(4,4,'petrol')#object\n",
    "print(\"The number of tyres in object car1 is {}\".format(car1.tyres))\n",
    "print(\"The number of tyres in object car1 is {}\".format(car1.engines))\n",
    "\n",
    "car1.sel_driving('electric')#method\n"
   ]
  },
  {
   "cell_type": "code",
   "execution_count": null,
   "metadata": {},
   "outputs": [],
   "source": []
  }
 ],
 "metadata": {
  "kernelspec": {
   "display_name": "Python 3",
   "language": "python",
   "name": "python3"
  },
  "language_info": {
   "codemirror_mode": {
    "name": "ipython",
    "version": 3
   },
   "file_extension": ".py",
   "mimetype": "text/x-python",
   "name": "python",
   "nbconvert_exporter": "python",
   "pygments_lexer": "ipython3",
   "version": "3.11.0"
  }
 },
 "nbformat": 4,
 "nbformat_minor": 2
}
