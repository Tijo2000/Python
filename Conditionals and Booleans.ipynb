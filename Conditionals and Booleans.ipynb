{
 "cells": [
  {
   "cell_type": "code",
   "execution_count": 2,
   "metadata": {},
   "outputs": [
    {
     "name": "stdout",
     "output_type": "stream",
     "text": [
      "cONDITION IS tRUE\n"
     ]
    }
   ],
   "source": [
    "#Conditional and Booleans\n",
    "if True:\n",
    "    print('cONDITION IS tRUE')\n"
   ]
  },
  {
   "cell_type": "code",
   "execution_count": 3,
   "metadata": {},
   "outputs": [
    {
     "name": "stdout",
     "output_type": "stream",
     "text": [
      "cONDITION True\n"
     ]
    }
   ],
   "source": [
    "language = 'Python'\n",
    "if language == 'Python':\n",
    "    print(\"cONDITION True\")"
   ]
  },
  {
   "cell_type": "code",
   "execution_count": 5,
   "metadata": {},
   "outputs": [
    {
     "name": "stdout",
     "output_type": "stream",
     "text": [
      "nO mATCH\n"
     ]
    }
   ],
   "source": [
    "language = 'SN'\n",
    "if language == 'Python':\n",
    "    print(\"Language is python\")\n",
    "else:\n",
    "    print('nO mATCH')"
   ]
  },
  {
   "cell_type": "code",
   "execution_count": 7,
   "metadata": {},
   "outputs": [
    {
     "name": "stdout",
     "output_type": "stream",
     "text": [
      "Java\n"
     ]
    }
   ],
   "source": [
    "language = 'Java'\n",
    "if language == 'Python':\n",
    "    print(\"Language is python\")\n",
    "elif language == \"Java\":\n",
    "    print(\"Java\")\n",
    "else:\n",
    "    print('nO mATCH')"
   ]
  },
  {
   "cell_type": "code",
   "execution_count": 8,
   "metadata": {},
   "outputs": [
    {
     "name": "stdout",
     "output_type": "stream",
     "text": [
      "Java\n"
     ]
    }
   ],
   "source": [
    "#switch case\n",
    "language = 'Java'\n",
    "if language == 'Python':\n",
    "    print(\"Language is python\")\n",
    "elif language == \"Java\":\n",
    "    print(\"Java\")\n",
    "elif language == \"Javascript\":\n",
    "    print(\"Java\")\n",
    "else:\n",
    "    print('nO mATCH')"
   ]
  },
  {
   "cell_type": "code",
   "execution_count": 11,
   "metadata": {},
   "outputs": [
    {
     "name": "stdout",
     "output_type": "stream",
     "text": [
      "ad\n"
     ]
    }
   ],
   "source": [
    "#Boolean operations\n",
    "#And #Or #Not\n",
    "user = 'Admin'\n",
    "login = \"True\"\n",
    "if user == \"Admin\" and login ==\"True\":\n",
    "    print('ad')\n",
    "else:\n",
    "    print(\"error\")\n"
   ]
  },
  {
   "cell_type": "code",
   "execution_count": 16,
   "metadata": {},
   "outputs": [
    {
     "name": "stdout",
     "output_type": "stream",
     "text": [
      "2213804532032\n",
      "2213804532032\n"
     ]
    }
   ],
   "source": [
    "A = [1,2,3]\n",
    "B = [1,2,3]\n",
    "A = B\n",
    "print(id(A))\n",
    "print(id(B))\n",
    "      "
   ]
  },
  {
   "cell_type": "code",
   "execution_count": 17,
   "metadata": {},
   "outputs": [
    {
     "name": "stdout",
     "output_type": "stream",
     "text": [
      "jdnndj\n"
     ]
    }
   ],
   "source": [
    "#Applies for 0 , [] , {} , None , False\n",
    "CONDITION  = 0\n",
    "if CONDITION:\n",
    "    print(\"JSJDJ\")\n",
    "else:\n",
    "    print(\"jdnndj\")"
   ]
  },
  {
   "cell_type": "code",
   "execution_count": null,
   "metadata": {},
   "outputs": [],
   "source": []
  }
 ],
 "metadata": {
  "kernelspec": {
   "display_name": "Python 3",
   "language": "python",
   "name": "python3"
  },
  "language_info": {
   "codemirror_mode": {
    "name": "ipython",
    "version": 3
   },
   "file_extension": ".py",
   "mimetype": "text/x-python",
   "name": "python",
   "nbconvert_exporter": "python",
   "pygments_lexer": "ipython3",
   "version": "3.11.0"
  },
  "orig_nbformat": 4
 },
 "nbformat": 4,
 "nbformat_minor": 2
}
