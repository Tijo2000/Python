{
 "cells": [
  {
   "cell_type": "code",
   "execution_count": null,
   "metadata": {},
   "outputs": [],
   "source": [
    "#Python Interview Questions\n",
    "Day 3"
   ]
  },
  {
   "cell_type": "code",
   "execution_count": 2,
   "metadata": {},
   "outputs": [
    {
     "name": "stdout",
     "output_type": "stream",
     "text": [
      "The sum of these numbers are 6\n"
     ]
    }
   ],
   "source": [
    "#Write a function that takes a list of numbers and returns the sum. Using built in fucntion\n",
    "def sum_of_list(nums):\n",
    "    return sum(nums)\n",
    "\n",
    "l1 = [1,2,3]\n",
    "sum= sum_of_list(l1)\n",
    "print(f\"The sum of these numbers are {sum}\")"
   ]
  },
  {
   "cell_type": "code",
   "execution_count": 4,
   "metadata": {},
   "outputs": [
    {
     "name": "stdout",
     "output_type": "stream",
     "text": [
      "The sum of these numbers are 6\n"
     ]
    }
   ],
   "source": [
    "#Using a for loop\n",
    "def sum_of_numbers(num):\n",
    "    total_sum=0\n",
    "    for n in num:\n",
    "        total_sum += n\n",
    "    return total_sum\n",
    "\n",
    "l1 = [1,2,3]\n",
    "sum= sum_of_numbers(l1)\n",
    "print(f\"The sum of these numbers are {sum}\")"
   ]
  },
  {
   "cell_type": "code",
   "execution_count": 1,
   "metadata": {},
   "outputs": [
    {
     "data": {
      "text/plain": [
       "'fuhund'"
      ]
     },
     "execution_count": 1,
     "metadata": {},
     "output_type": "execute_result"
    }
   ],
   "source": [
    "#How do you reverse a string in Python?\n",
    "def reverse_string(s):\n",
    "    return s[::-1]\n",
    "\n",
    "new_string = reverse_string('dnuhuf')\n",
    "new_string"
   ]
  },
  {
   "cell_type": "code",
   "execution_count": 1,
   "metadata": {},
   "outputs": [],
   "source": [
    "#Question: What is the difference between a tuple and a list?\n",
    "Lists are mutable (can be modified), while tuples are immutable (cannot be modified once created)."
   ]
  },
  {
   "cell_type": "code",
   "execution_count": 4,
   "metadata": {},
   "outputs": [
    {
     "data": {
      "text/plain": [
       "True"
      ]
     },
     "execution_count": 4,
     "metadata": {},
     "output_type": "execute_result"
    }
   ],
   "source": [
    "#Question: Write a function that checks if a given word is a palindrome.\n",
    "def is_palindrome(ss):\n",
    "    return ss == ss[::-1]\n",
    "\n",
    "osh = is_palindrome('malayalam')\n",
    "osh"
   ]
  },
  {
   "cell_type": "code",
   "execution_count": 5,
   "metadata": {},
   "outputs": [],
   "source": [
    "def input_list():\n",
    "  \"\"\"Prompts the user to enter items for a list and returns it.\n",
    "\n",
    "  Returns:\n",
    "      A Python list containing the user-entered items.\n",
    "  \"\"\"\n",
    "\n",
    "  # Get user input as a comma-separated string\n",
    "  user_input = input(\"Enter comma-separated items for the list: \")\n",
    "\n",
    "  # Split the string into a list, preserving the original data types\n",
    "  items = user_input.split(\",\")\n",
    "\n",
    "  return items"
   ]
  },
  {
   "cell_type": "code",
   "execution_count": 7,
   "metadata": {},
   "outputs": [],
   "source": [
    "# Apply the function and store the result in a variable\n",
    "my_list = input_list()\n",
    "\n",
    "# Print the list to see the user-entered items\n",
    "my_list"
   ]
  },
  {
   "cell_type": "code",
   "execution_count": 1,
   "metadata": {},
   "outputs": [
    {
     "data": {
      "text/plain": [
       "[1, 3]"
      ]
     },
     "execution_count": 1,
     "metadata": {},
     "output_type": "execute_result"
    }
   ],
   "source": [
    "# Question: How can you remove duplicates from a list?\n",
    "def remove_duplicates(lst):\n",
    "    return list(set(lst))\n",
    "\n",
    "\n",
    "osh = remove_duplicates([1,3,3])\n",
    "osh"
   ]
  },
  {
   "cell_type": "code",
   "execution_count": 7,
   "metadata": {},
   "outputs": [
    {
     "name": "stdout",
     "output_type": "stream",
     "text": [
      "division by zero\n"
     ]
    }
   ],
   "source": [
    "#How do you handle exceptions in Python?\n",
    "def divide_numbers(a,b):\n",
    "    try:\n",
    "        result = a / b\n",
    "        return result\n",
    "    except ZeroDivisionError as e:\n",
    "        print(e)\n",
    "    \n",
    "        \n",
    "\n",
    "output = divide_numbers(10, 0)  # Will trigger ZeroDivisionError\n",
    "# output = divide_numbers(10, \"5\")\n",
    "    \n",
    "    "
   ]
  },
  {
   "cell_type": "code",
   "execution_count": 10,
   "metadata": {},
   "outputs": [],
   "source": [
    "#Pass , break and continue statements in python\n",
    "# pass- A null statement, essentially a placeholder that does nothing.\n",
    "def do_nothing():\n",
    "    pass"
   ]
  },
  {
   "cell_type": "code",
   "execution_count": 11,
   "metadata": {},
   "outputs": [],
   "source": [
    "if True:\n",
    "    pass "
   ]
  },
  {
   "cell_type": "code",
   "execution_count": 12,
   "metadata": {},
   "outputs": [
    {
     "name": "stdout",
     "output_type": "stream",
     "text": [
      "0\n",
      "1\n",
      "2\n"
     ]
    }
   ],
   "source": [
    "for i in range(5):\n",
    "    if i == 3:\n",
    "        break  # Exit the loop when i reaches 3\n",
    "    print(i)"
   ]
  },
  {
   "cell_type": "code",
   "execution_count": 15,
   "metadata": {},
   "outputs": [
    {
     "name": "stdout",
     "output_type": "stream",
     "text": [
      "2\n",
      "3\n",
      "4\n",
      "5\n",
      "6\n",
      "8\n",
      "9\n"
     ]
    }
   ],
   "source": [
    "for i in range(2,10):\n",
    "    if i == 7:\n",
    "        continue\n",
    "    print(i)"
   ]
  },
  {
   "cell_type": "code",
   "execution_count": null,
   "metadata": {},
   "outputs": [],
   "source": [
    "multiply = lambda x,y:x*y\n",
    "print(mul)"
   ]
  }
 ],
 "metadata": {
  "kernelspec": {
   "display_name": "Python 3",
   "language": "python",
   "name": "python3"
  },
  "language_info": {
   "codemirror_mode": {
    "name": "ipython",
    "version": 3
   },
   "file_extension": ".py",
   "mimetype": "text/x-python",
   "name": "python",
   "nbconvert_exporter": "python",
   "pygments_lexer": "ipython3",
   "version": "3.11.0"
  }
 },
 "nbformat": 4,
 "nbformat_minor": 2
}
