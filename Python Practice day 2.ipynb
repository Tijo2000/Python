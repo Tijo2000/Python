{
 "cells": [
  {
   "cell_type": "markdown",
   "metadata": {},
   "source": [
    "#Python Interview Questions\n",
    "Day 2"
   ]
  },
  {
   "cell_type": "code",
   "execution_count": 1,
   "metadata": {},
   "outputs": [
    {
     "name": "stdout",
     "output_type": "stream",
     "text": [
      "Not in range\n"
     ]
    }
   ],
   "source": [
    "# Write a Python function to check whether a number falls within a given range.\n",
    "def test_range(n):\n",
    "    if n in range(3,8):\n",
    "        print(\"%s is in the range\" % str(n))\n",
    "    else:\n",
    "        print('Not in range')\n",
    "\n",
    "test_range(8)"
   ]
  },
  {
   "cell_type": "code",
   "execution_count": 4,
   "metadata": {},
   "outputs": [
    {
     "name": "stdout",
     "output_type": "stream",
     "text": [
      "Original String:  The quick Brown Fox\n",
      "No. of Upper case characters:  3\n",
      "No. of Lower case Characters:  13\n"
     ]
    }
   ],
   "source": [
    "#Write a Python function that accepts a string and counts the number of upper and lower case letters.\n",
    "def string_test(s):\n",
    "    d = {'UPPERCASE': 0, 'LOWERCASE':0}\n",
    "\n",
    "    for c in s:\n",
    "        if c.isupper():\n",
    "            d['UPPERCASE']+=1\n",
    "        elif c.islower():\n",
    "            d[\"LOWERCASE\"]+=1\n",
    "        else:\n",
    "            pass\n",
    "    # Print the original string 's'\n",
    "    print(\"Original String: \", s)\n",
    "    \n",
    "    # Print the count of upper case characters\n",
    "    print(\"No. of Upper case characters: \", d[\"UPPERCASE\"])\n",
    "    \n",
    "    # Print the count of lower case characters\n",
    "    print(\"No. of Lower case Characters: \", d[\"LOWERCASE\"])\n",
    "\n",
    "# Call the 'string_test' function with the input string 'The quick Brown Fox'\n",
    "string_test('The quick Brown Fox') "
   ]
  },
  {
   "cell_type": "code",
   "execution_count": 6,
   "metadata": {},
   "outputs": [
    {
     "data": {
      "text/plain": [
       "[1, 2, 3, 4, 5]"
      ]
     },
     "execution_count": 6,
     "metadata": {},
     "output_type": "execute_result"
    }
   ],
   "source": [
    "#Write a Python function that takes a list and returns a new list with distinct elements from the first list.\n",
    "def unique_list(l):\n",
    "    x = []\n",
    "\n",
    "    for a in l:\n",
    "        if a not in x:\n",
    "            x.append(a)\n",
    "        else:\n",
    "            pass\n",
    "    return x\n",
    "\n",
    "unique_list([1, 2, 3, 3, 3, 3, 4, 5])"
   ]
  },
  {
   "cell_type": "code",
   "execution_count": 12,
   "metadata": {},
   "outputs": [
    {
     "name": "stdout",
     "output_type": "stream",
     "text": [
      "False\n"
     ]
    }
   ],
   "source": [
    "#Write a Python function that takes a number as a parameter and checks whether the number is prime or not.\n",
    "def test_prime(n):\n",
    "    # Check if 'n' is equal to 1\n",
    "    if (n == 1):\n",
    "        # If 'n' is 1, return False (1 is not a prime number)\n",
    "        return False\n",
    "    # Check if 'n' is equal to 2\n",
    "    elif (n == 2):\n",
    "        # If 'n' is 2, return True (2 is a prime number)\n",
    "        return True\n",
    "    else:\n",
    "        # Iterate through numbers from 2 to (n-1) using 'x' as the iterator\n",
    "        for x in range(2, n):\n",
    "            # Check if 'n' is divisible by 'x' without any remainder\n",
    "            if (n % x == 0):\n",
    "                # If 'n' is divisible by 'x', return False (not a prime number)\n",
    "                return False\n",
    "        # If 'n' is not divisible by any number from 2 to (n-1), return True (prime number)\n",
    "        return True\n",
    "\n",
    "# Print the result of checking if 9 is a prime number by calling the 'test_prime' function\n",
    "print(test_prime(9))"
   ]
  },
  {
   "cell_type": "code",
   "execution_count": 19,
   "metadata": {},
   "outputs": [
    {
     "name": "stdout",
     "output_type": "stream",
     "text": [
      "[2, 4, 6, 8]\n"
     ]
    }
   ],
   "source": [
    "#Write a Python program to print the even numbers from a given list.\n",
    "def is_even(l):\n",
    "    #Creating an empty list\n",
    "    a = [] \n",
    "    \n",
    "    for i in l:\n",
    "        if i%2==0:\n",
    "            a.append(i)\n",
    "            \n",
    "\n",
    "        else:\n",
    "            pass\n",
    "    return a\n",
    "    \n",
    "print(is_even([1, 2, 3, 4, 5, 6, 7, 8, 9])) "
   ]
  },
  {
   "cell_type": "code",
   "execution_count": null,
   "metadata": {},
   "outputs": [],
   "source": []
  }
 ],
 "metadata": {
  "kernelspec": {
   "display_name": "Python 3",
   "language": "python",
   "name": "python3"
  },
  "language_info": {
   "codemirror_mode": {
    "name": "ipython",
    "version": 3
   },
   "file_extension": ".py",
   "mimetype": "text/x-python",
   "name": "python",
   "nbconvert_exporter": "python",
   "pygments_lexer": "ipython3",
   "version": "3.11.0"
  }
 },
 "nbformat": 4,
 "nbformat_minor": 2
}
