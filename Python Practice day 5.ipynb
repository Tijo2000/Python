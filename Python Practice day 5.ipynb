{
 "cells": [
  {
   "cell_type": "code",
   "execution_count": 2,
   "metadata": {},
   "outputs": [],
   "source": [
    "# Write a  Python program to find those numbers which are divisible by 7 and multiples of 5, between 1500 and 2700 (both included).\n",
    "#Create an empty list to store numbers'\n",
    "n1 = []\n",
    "\n",
    "for i in range(1500,2711):\n",
    "    if(i%7==0) and (i%5==0):\n",
    "        n1.append(str(i))\n",
    "\n"
   ]
  },
  {
   "cell_type": "code",
   "execution_count": 3,
   "metadata": {},
   "outputs": [
    {
     "data": {
      "text/plain": [
       "['1505',\n",
       " '1540',\n",
       " '1575',\n",
       " '1610',\n",
       " '1645',\n",
       " '1680',\n",
       " '1715',\n",
       " '1750',\n",
       " '1785',\n",
       " '1820',\n",
       " '1855',\n",
       " '1890',\n",
       " '1925',\n",
       " '1960',\n",
       " '1995',\n",
       " '2030',\n",
       " '2065',\n",
       " '2100',\n",
       " '2135',\n",
       " '2170',\n",
       " '2205',\n",
       " '2240',\n",
       " '2275',\n",
       " '2310',\n",
       " '2345',\n",
       " '2380',\n",
       " '2415',\n",
       " '2450',\n",
       " '2485',\n",
       " '2520',\n",
       " '2555',\n",
       " '2590',\n",
       " '2625',\n",
       " '2660',\n",
       " '2695']"
      ]
     },
     "execution_count": 3,
     "metadata": {},
     "output_type": "execute_result"
    }
   ],
   "source": [
    "n1"
   ]
  },
  {
   "cell_type": "code",
   "execution_count": 13,
   "metadata": {},
   "outputs": [
    {
     "name": "stdout",
     "output_type": "stream",
     "text": [
      "\n",
      "*  \n",
      "*  *  \n",
      "*  *  *  \n",
      "*  *  *  *  \n"
     ]
    }
   ],
   "source": [
    "n = 5\n",
    "\n",
    "# Iterate through the range of numbers from 0 to 'n' (exclusive)\n",
    "for i in range(n):\n",
    "    # Iterate through the range of numbers from 0 to 'i' (exclusive) for each 'i' in the outer loop\n",
    "    for j in range(i):\n",
    "        \n",
    "        print('* ',end = \" \")\n",
    "    print('')"
   ]
  },
  {
   "cell_type": "code",
   "execution_count": 14,
   "metadata": {},
   "outputs": [
    {
     "name": "stdout",
     "output_type": "stream",
     "text": [
      "Number of even numbers: 4\n",
      "Number of odd numbers: 5\n"
     ]
    }
   ],
   "source": [
    "# Write a Python program to count the number of even and odd numbers in a series of numbers\n",
    "count_odd  = 0\n",
    "count_even = 0\n",
    "\n",
    "numbers = (1, 2, 3, 4, 5, 6, 7, 8, 9)\n",
    "\n",
    "for x in numbers:\n",
    "    if x%2==0:\n",
    "        count_even += 1\n",
    "    else:\n",
    "        count_odd += 1\n",
    "\n",
    "print(\"Number of even numbers:\", count_even)\n",
    "print(\"Number of odd numbers:\", count_odd) \n",
    "\n"
   ]
  },
  {
   "cell_type": "code",
   "execution_count": 17,
   "metadata": {},
   "outputs": [
    {
     "name": "stdout",
     "output_type": "stream",
     "text": [
      "0 1 2 3 4 5 "
     ]
    }
   ],
   "source": [
    "#Write a  Python program that prints all the numbers from 0 to 6 except 3 and 6.\n",
    "for i in range(6):\n",
    "    if(x==3) and (x==6):\n",
    "        continue\n",
    "    else:\n",
    "        print(i, end=' ')"
   ]
  },
  {
   "cell_type": "code",
   "execution_count": 19,
   "metadata": {},
   "outputs": [],
   "source": [
    "#Write a  Python program to get the  Fibonacci series between 0 and 50.\n",
    "def fibonacci(n):\n",
    "    if n <= 1:\n",
    "        return n\n",
    "    else:\n",
    "        return fibonacci(n-1) + fibonacci(n-2)\n",
    "\n",
    "sodoe= fibonacci(5)"
   ]
  },
  {
   "cell_type": "code",
   "execution_count": null,
   "metadata": {},
   "outputs": [],
   "source": []
  }
 ],
 "metadata": {
  "kernelspec": {
   "display_name": "Python 3",
   "language": "python",
   "name": "python3"
  },
  "language_info": {
   "codemirror_mode": {
    "name": "ipython",
    "version": 3
   },
   "file_extension": ".py",
   "mimetype": "text/x-python",
   "name": "python",
   "nbconvert_exporter": "python",
   "pygments_lexer": "ipython3",
   "version": "3.11.0"
  }
 },
 "nbformat": 4,
 "nbformat_minor": 2
}
