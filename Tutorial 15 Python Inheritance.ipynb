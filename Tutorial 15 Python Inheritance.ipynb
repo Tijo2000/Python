{
 "cells": [
  {
   "cell_type": "code",
   "execution_count": 7,
   "metadata": {},
   "outputs": [
    {
     "name": "stdout",
     "output_type": "stream",
     "text": [
      "200\n",
      "4\n",
      "Car is used for driving\n",
      "None\n",
      "It is a self driving car\n",
      "None\n"
     ]
    }
   ],
   "source": [
    "#Inheritance\n",
    "#Car class blueprint\n",
    "#Class - real world entity\n",
    "class Car:\n",
    "    def __init__(self,windows,doors,enginetype):#parameters\n",
    "        self.windows = windows\n",
    "        self.doors = doors\n",
    "        self.enginetype = enginetype #attributes\n",
    "    def driving(self):\n",
    "        print(\"Car is used for driving\")\n",
    "    \n",
    "\n",
    "class Audi(Car):\n",
    "    def __init__(self,windows,doors,enginetype,horsepower):\n",
    "        super().__init__(windows,doors,enginetype) #Audi classs Inheriting from parent class Car\n",
    "        self.horsepower = horsepower\n",
    "\n",
    "    def self_driving(self):\n",
    "        print(\"It is a self driving car\")\n",
    "\n",
    "audiq7=Audi(4,5,'Diesel',200)\n",
    "print(audiq7.horsepower)\n",
    "print(audiq7.windows)\n",
    "print(audiq7.driving())\n",
    "print(audiq7.self_driving())\n",
    "\n",
    "\n",
    "\n",
    "\n",
    "    "
   ]
  },
  {
   "cell_type": "code",
   "execution_count": 10,
   "metadata": {},
   "outputs": [
    {
     "name": "stdout",
     "output_type": "stream",
     "text": [
      "3\n",
      "<__main__.Car object at 0x0000023E832DA4D0>\n",
      "<__main__.Audi object at 0x0000023E82D99210>\n"
     ]
    }
   ],
   "source": [
    "car1 = Car(3,2,'petrol')\n",
    "print(car1.windows)\n",
    "print(car1)\n",
    "print(audiq7)"
   ]
  },
  {
   "cell_type": "code",
   "execution_count": null,
   "metadata": {},
   "outputs": [],
   "source": []
  }
 ],
 "metadata": {
  "kernelspec": {
   "display_name": "Python 3",
   "language": "python",
   "name": "python3"
  },
  "language_info": {
   "codemirror_mode": {
    "name": "ipython",
    "version": 3
   },
   "file_extension": ".py",
   "mimetype": "text/x-python",
   "name": "python",
   "nbconvert_exporter": "python",
   "pygments_lexer": "ipython3",
   "version": "3.11.0"
  }
 },
 "nbformat": 4,
 "nbformat_minor": 2
}
