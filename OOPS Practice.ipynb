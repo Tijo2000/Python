{
 "cells": [
  {
   "cell_type": "code",
   "execution_count": 3,
   "metadata": {},
   "outputs": [
    {
     "name": "stdout",
     "output_type": "stream",
     "text": [
      "Area of the circle 12.566370614359172\n"
     ]
    }
   ],
   "source": [
    "#OOOPS Practice\n",
    "#Write a Python program to create a class representing a Circle. Include methods to calculate its area and perimeter.\n",
    "import math\n",
    "\n",
    "#Defining class Circle\n",
    "class Circle:\n",
    "    def __init__(self,radius):\n",
    "        self.radius= radius\n",
    "\n",
    "    def calculate_circle_area(self):\n",
    "        return math.pi*self.radius*2\n",
    "\n",
    "    def calculate_circle_perimeter(self):\n",
    "        return 2 * math.pi * self.radius\n",
    "\n",
    "radius = float(input(\"Input the radius of the circle: \"))\n",
    "\n",
    "#Create a circle object\n",
    "circle = Circle(radius)\n",
    "\n",
    "area = circle.calculate_circle_area()\n",
    "perimeter = circle.calculate_circle_perimeter()\n",
    "\n",
    "print(\"Area of the circle\",area)"
   ]
  },
  {
   "cell_type": "code",
   "execution_count": 6,
   "metadata": {},
   "outputs": [
    {
     "name": "stdout",
     "output_type": "stream",
     "text": [
      "Person 1:\n",
      "Name: Ferdi Odilia\n",
      "Country: France\n",
      "e of Birth: 1962-07-12\n",
      "Age: 61\n",
      "\n",
      "Person 2:\n",
      "Name: Shweta Maddox\n",
      "Country: Canada\n",
      "Date of Birth: 1982-10-20\n",
      "Age: 41\n",
      "\n",
      "Person 3:\n",
      "Name: Elizaveta Tilman\n",
      "Country: USA\n",
      "Date of Birth: 2000-01-01\n",
      "Age: 24\n"
     ]
    }
   ],
   "source": [
    "#Write a Python program to create a person class. Include attributes like name, country and date of birth. Implement a method to determine the person's age.\n",
    "# Import the date class from the datetime module to work with dates\n",
    "from datetime import date\n",
    "\n",
    "# Define a class called Person to represent a person with a name, country, and date of birth\n",
    "class Person:\n",
    "    # Initialize the Person object with a name, country, and date of birth\n",
    "    def __init__(self, name, country, date_of_birth):\n",
    "        self.name = name\n",
    "        self.country = country\n",
    "        self.date_of_birth = date_of_birth\n",
    "    \n",
    "    # Calculate the age of the person based on their date of birth\n",
    "    def calculate_age(self):\n",
    "        today = date.today()\n",
    "        age = today.year - self.date_of_birth.year\n",
    "        if today < date(today.year, self.date_of_birth.month, self.date_of_birth.day):\n",
    "            age -= 1\n",
    "        return age\n",
    "\n",
    "# Example usage\n",
    "# Create three Person objects with different attributes\n",
    "person1 = Person(\"Ferdi Odilia\", \"France\", date(1962, 7, 12))\n",
    "person2 = Person(\"Shweta Maddox\", \"Canada\", date(1982, 10, 20))\n",
    "person3 = Person(\"Elizaveta Tilman\", \"USA\", date(2000, 1, 1))\n",
    "\n",
    "# Access and print the attributes and calculated age for each person\n",
    "print(\"Person 1:\")\n",
    "print(\"Name:\", person1.name)\n",
    "print(\"Country:\", person1.country)\n",
    "print(\"e of Birth:\", person1.date_of_birth)\n",
    "print(\"Age:\", person1.calculate_age())\n",
    "\n",
    "print(\"\\nPerson 2:\")\n",
    "print(\"Name:\", person2.name)\n",
    "print(\"Country:\", person2.country)\n",
    "print(\"Date of Birth:\", person2.date_of_birth)\n",
    "print(\"Age:\", person2.calculate_age())\n",
    "\n",
    "print(\"\\nPerson 3:\")\n",
    "print(\"Name:\", person3.name)\n",
    "print(\"Country:\", person3.country)\n",
    "print(\"Date of Birth:\", person3.date_of_birth)\n",
    "print(\"Age:\", person3.calculate_age())\n"
   ]
  },
  {
   "cell_type": "code",
   "execution_count": 8,
   "metadata": {},
   "outputs": [
    {
     "name": "stdout",
     "output_type": "stream",
     "text": [
      "7 + 5 = 12\n"
     ]
    }
   ],
   "source": [
    "#Write a Python program to create a calculator class. Include methods for basic arithmetic operations.\n",
    "class Calculator:\n",
    "    def add(self,x,y):\n",
    "        return x+y\n",
    "    def sub(self,x,y):\n",
    "        return x-y\n",
    "    def multiply(self,x,y):\n",
    "        return x*y\n",
    "    def divide(self,x,y):\n",
    "        if y!=0:\n",
    "            return x/y\n",
    "        else:\n",
    "            return(\"Cannot divide by zero\")\n",
    "        \n",
    "#Create an object\n",
    "calc = Calculator()\n",
    "\n",
    "#perform additiom\n",
    "result = calc.add(7,5)\n",
    "print(\"7 + 5 =\", result)\n"
   ]
  },
  {
   "cell_type": "code",
   "execution_count": 1,
   "metadata": {},
   "outputs": [
    {
     "name": "stdout",
     "output_type": "stream",
     "text": [
      "240 18\n"
     ]
    }
   ],
   "source": [
    "# Write a Python program to create a Vehicle class with max_speed and mileage instance attributes.\n",
    "class Vehicle:\n",
    "    def __init__(self, max_speed , mileage):\n",
    "        self.max_speed = max_speed\n",
    "        self.mileage = mileage\n",
    "\n",
    "#Creating an object\n",
    "Ola = Vehicle(240,18)\n",
    "print(Ola.max_speed,Ola.mileage)\n",
    "\n"
   ]
  },
  {
   "cell_type": "code",
   "execution_count": 2,
   "metadata": {},
   "outputs": [],
   "source": [
    "#Create a Vehicle class without any variables and methods\n",
    "class Vehicle:\n",
    "    pass"
   ]
  },
  {
   "cell_type": "code",
   "execution_count": 5,
   "metadata": {},
   "outputs": [
    {
     "name": "stdout",
     "output_type": "stream",
     "text": [
      "Vehicle no: 10\n",
      "Vehicle mileage: 23\n"
     ]
    }
   ],
   "source": [
    "#Create a child class Bus that will inherit all of the variables and methods of the Vehicle class\n",
    "class Vehicle:\n",
    "    def __init__(self, max_speed , mileage):\n",
    "        self.max_speed = max_speed\n",
    "        self.mileage = mileage\n",
    "\n",
    "class Bus(Vehicle):\n",
    "    pass\n",
    "\n",
    "#Create an object\n",
    "Volvo = Bus(10,23)\n",
    "print(\"Vehicle no:\" ,Volvo.max_speed)\n",
    "print(\"Vehicle mileage:\" , Volvo.mileage)"
   ]
  },
  {
   "cell_type": "code",
   "execution_count": 12,
   "metadata": {},
   "outputs": [
    {
     "name": "stdout",
     "output_type": "stream",
     "text": [
      "The seating capacity of a JSJD is 50 passengers\n"
     ]
    }
   ],
   "source": [
    "#Create a Bus class that inherits from the Vehicle class. Give the capacity argument of Bus.seating_capacity() a default value of 50.\n",
    "class Vehicle:\n",
    "    def __init__(self, name, max_speed, mileage):\n",
    "        self.name = name\n",
    "        self.max_speed = max_speed\n",
    "        self.mileage = mileage\n",
    "\n",
    "    def seating_capacity(self, capacity):\n",
    "        return f\"The seating capacity of a {self.name} is {capacity} passengers\"\n",
    "\n",
    "class Bus(Vehicle):\n",
    "    def seating_capacity(self,capacity = 50):\n",
    "        return super().seating_capacity(capacity = 50)\n",
    "\n",
    "#Create an object\n",
    "Volvo  = Bus(\"JSJD\",122,32)\n",
    "print(Volvo.seating_capacity())"
   ]
  },
  {
   "cell_type": "code",
   "execution_count": 9,
   "metadata": {},
   "outputs": [
    {
     "name": "stdout",
     "output_type": "stream",
     "text": [
      "The seating capacity of a School Volvo is 50 passengers\n"
     ]
    }
   ],
   "source": [
    "class Vehicle:\n",
    "    def __init__(self, name, max_speed, mileage):\n",
    "        self.name = name\n",
    "        self.max_speed = max_speed\n",
    "        self.mileage = mileage\n",
    "\n",
    "    def seating_capacity(self, capacity):\n",
    "        return f\"The seating capacity of a {self.name} is {capacity} passengers\"\n",
    "\n",
    "class Bus(Vehicle):\n",
    "    # assign default value to capacity\n",
    "    def seating_capacity(self, capacity=50):\n",
    "        return super().seating_capacity(capacity=50)\n",
    "\n",
    "School_bus = Bus(\"School Volvo\", 180, 12)\n",
    "print(School_bus.seating_capacity())"
   ]
  },
  {
   "cell_type": "code",
   "execution_count": 13,
   "metadata": {},
   "outputs": [],
   "source": [
    "#Define a property that must have the same value for every class instance (object)\n",
    "#Define a class attribute”color” with a default value white. I.e., Every Vehicle should be white.\n"
   ]
  },
  {
   "cell_type": "markdown",
   "metadata": {},
   "source": [
    "Variables created in .__init__() are called instance variables. An instance variable’s value is specific to a particular instance of the class. For example, in the solution, All Vehicle objects have a name and a max_speed, but the name and max_speed variables’ values will vary depending on the Vehicle instance.\n",
    "\n",
    "On the other hand, the class variable is shared between all class instances. You can define a class attribute by assigning a value to a variable name outside of .__init__()."
   ]
  },
  {
   "cell_type": "code",
   "execution_count": 15,
   "metadata": {},
   "outputs": [
    {
     "name": "stdout",
     "output_type": "stream",
     "text": [
      "white 22\n",
      "white Audi\n"
     ]
    }
   ],
   "source": [
    "class Vehicle:\n",
    "    color = 'white'\n",
    "\n",
    "\n",
    "    def __init__(self, name , mileage, speed):\n",
    "        self.name = name\n",
    "        self.mileage = mileage\n",
    "        self.speed = speed\n",
    "    \n",
    "\n",
    "class Bus(Vehicle):  #Inheritanmce\n",
    "    pass\n",
    "\n",
    "class Car(Vehicle):  #Inheritance\n",
    "    pass\n",
    "\n",
    "#Create an bus object\n",
    "School_bus = Bus('Tata', 12,22)\n",
    "print(School_bus.color, School_bus.speed)\n",
    "\n",
    "#Create an car object\n",
    "Audoi = Car('Audi', 12,22)\n",
    "print(Audoi.color, Audoi.name)\n",
    "\n",
    "\n"
   ]
  },
  {
   "cell_type": "code",
   "execution_count": 16,
   "metadata": {},
   "outputs": [
    {
     "name": "stdout",
     "output_type": "stream",
     "text": [
      "Total Bus fare is: 330.0\n"
     ]
    }
   ],
   "source": [
    "#Class Inheritance\n",
    "#Create a Bus child class that inherits from the Vehicle class. The default fare charge of any vehicle is seating capacity * 100. If Vehicle is Bus instance, we need to add an extra 10% on full fare as a maintenance charge. So total fare for bus instance will become the final amount = total fare + 10% of the total fare.\n",
    "class Vehicle:\n",
    "    def __init__(self, name , mileage, capacity):\n",
    "        self.name = name\n",
    "        self.mileage = mileage\n",
    "        self.capacity = capacity\n",
    "    \n",
    "    def fare(self):\n",
    "        return self.capacity*100\n",
    "\n",
    "class Bus(Vehicle):\n",
    "    def fare(self):\n",
    "        amount = super().fare()\n",
    "        amount+= amount *10/100\n",
    "        return amount\n",
    "\n",
    "School_Bus = Bus('wje',1,3)\n",
    "print('Total Bus fare is:',School_Bus.fare())"
   ]
  },
  {
   "cell_type": "code",
   "execution_count": 18,
   "metadata": {},
   "outputs": [
    {
     "name": "stdout",
     "output_type": "stream",
     "text": [
      "<class '__main__.Bus'>\n"
     ]
    }
   ],
   "source": [
    "#Check type of an object\n",
    "# Write a program to determine which class a given Bus object belongs to.\n",
    "class Vehicle:\n",
    "    def __init__(self, name , mileage, capacity):\n",
    "        self.name = name\n",
    "        self.mileage = mileage\n",
    "        self.capacity = capacity\n",
    "    \n",
    "class Bus(Vehicle):\n",
    "    pass\n",
    "\n",
    "#Create an oject\n",
    "School_Bus = Bus('ehe',2,2)\n",
    "print(type(School_Bus))"
   ]
  },
  {
   "cell_type": "code",
   "execution_count": null,
   "metadata": {},
   "outputs": [],
   "source": []
  }
 ],
 "metadata": {
  "kernelspec": {
   "display_name": "Python 3",
   "language": "python",
   "name": "python3"
  },
  "language_info": {
   "codemirror_mode": {
    "name": "ipython",
    "version": 3
   },
   "file_extension": ".py",
   "mimetype": "text/x-python",
   "name": "python",
   "nbconvert_exporter": "python",
   "pygments_lexer": "ipython3",
   "version": "3.11.0"
  }
 },
 "nbformat": 4,
 "nbformat_minor": 2
}
