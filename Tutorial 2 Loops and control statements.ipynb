{
 "cells": [
  {
   "cell_type": "code",
   "execution_count": 2,
   "metadata": {},
   "outputs": [
    {
     "name": "stdout",
     "output_type": "stream",
     "text": [
      "The number is greater than 100\n"
     ]
    }
   ],
   "source": [
    "#Python Control Flows\n",
    "#IF Statement\n",
    "val = input('Enter a number:')\n",
    "val_float = float(val)\n",
    "if(val_float>100):\n",
    "    print('The number is greater than 100')"
   ]
  },
  {
   "cell_type": "code",
   "execution_count": 5,
   "metadata": {},
   "outputs": [
    {
     "name": "stdout",
     "output_type": "stream",
     "text": [
      "The number is even\n"
     ]
    }
   ],
   "source": [
    "val = input('Enter a number:')\n",
    "val_float = float(val)\n",
    "if(val_float%2==0):\n",
    "    print('The number is even')"
   ]
  },
  {
   "cell_type": "code",
   "execution_count": 6,
   "metadata": {},
   "outputs": [
    {
     "name": "stdout",
     "output_type": "stream",
     "text": [
      "Not even\n"
     ]
    }
   ],
   "source": [
    "val = input('Enter a number:')\n",
    "val_float = float(val)\n",
    "if(val_float%2==0):\n",
    "    print('The number is even')\n",
    "else:\n",
    "    print('Not even')"
   ]
  },
  {
   "cell_type": "code",
   "execution_count": 8,
   "metadata": {},
   "outputs": [
    {
     "name": "stdout",
     "output_type": "stream",
     "text": [
      "didd\n"
     ]
    }
   ],
   "source": [
    "#Nested If else\n",
    "age = float(input('Enter a age:'))\n",
    "if(age<18):\n",
    "    print('minor')\n",
    "elif(age>=18 and age<=35):\n",
    "    print('Legal age')\n",
    "else:\n",
    "    print('didd')"
   ]
  },
  {
   "cell_type": "code",
   "execution_count": 10,
   "metadata": {},
   "outputs": [
    {
     "name": "stdout",
     "output_type": "stream",
     "text": [
      "minor\n",
      "In school\n"
     ]
    }
   ],
   "source": [
    "age = float(input('Enter a age:'))\n",
    "if(age<18):\n",
    "    print('minor')\n",
    "    if(age<15):\n",
    "        print('In school')\n",
    "    else:\n",
    "        print('wejwj')\n",
    "elif(age>=18 and age<=35):\n",
    "    print('Legal age')\n",
    "else:\n",
    "    print('didd')"
   ]
  },
  {
   "cell_type": "code",
   "execution_count": 12,
   "metadata": {},
   "outputs": [
    {
     "name": "stdout",
     "output_type": "stream",
     "text": [
      "1,3,4,4\n"
     ]
    }
   ],
   "source": [
    "#For Loop\n",
    "#List\n",
    "lst = ['1,3,4,4']\n",
    "\n",
    "for i in lst:\n",
    "    print(i)"
   ]
  },
  {
   "cell_type": "code",
   "execution_count": 29,
   "metadata": {},
   "outputs": [
    {
     "name": "stdout",
     "output_type": "stream",
     "text": [
      "12\n"
     ]
    }
   ],
   "source": [
    "#Sum of all\n",
    "sum1 = 0\n",
    "lst = [1,3,4,4]\n",
    "\n",
    "for i in lst:\n",
    "    sum1 +=  i\n",
    "print(sum1)"
   ]
  },
  {
   "cell_type": "code",
   "execution_count": 30,
   "metadata": {},
   "outputs": [
    {
     "name": "stdout",
     "output_type": "stream",
     "text": [
      "The sum of all elements in the list is: 12\n"
     ]
    }
   ],
   "source": [
    "sum1 = 0\n",
    "lst = [1, 3, 4, 4]\n",
    "\n",
    "for num in lst:  # Use a descriptive variable name 'num'\n",
    "  sum1 += num\n",
    "  # Print the sum after each iteration for debugging purposes (optional)\n",
    "  # print(sum1)\n",
    "\n",
    "print(f\"The sum of all elements in the list is:\", sum1)  # Clear output message\n"
   ]
  },
  {
   "cell_type": "code",
   "execution_count": 35,
   "metadata": {},
   "outputs": [
    {
     "name": "stdout",
     "output_type": "stream",
     "text": [
      "Even sum is 8\n",
      "Even odd is 4\n"
     ]
    }
   ],
   "source": [
    "#Find the sum of evemn and odd numbers\n",
    "even_sum = 0\n",
    "odd_sum = 0\n",
    "lst = [1, 3, 4, 4]\n",
    "\n",
    "for i in lst:\n",
    "    if(i%2==0):\n",
    "        even_sum+=i\n",
    "    else:\n",
    "        odd_sum+=i\n",
    "\n",
    "print(f'Even sum is {even_sum}')\n",
    "print('Even odd is', odd_sum)\n",
    "\n",
    "\n"
   ]
  },
  {
   "cell_type": "code",
   "execution_count": 4,
   "metadata": {},
   "outputs": [
    {
     "name": "stdout",
     "output_type": "stream",
     "text": [
      "Even sum is 20\n",
      "Even odd is 25\n"
     ]
    }
   ],
   "source": [
    "#while condition\n",
    "even_sum =0\n",
    "odd_sum = 0\n",
    "i = 0\n",
    "while(i<10):\n",
    "    if(i%2==0):\n",
    "        even_sum+=i\n",
    "    else:\n",
    "        odd_sum+=i\n",
    "\n",
    "    i+=1\n",
    "print('Even sum is', even_sum)\n",
    "print('Even odd is', odd_sum)\n",
    " "
   ]
  },
  {
   "cell_type": "code",
   "execution_count": 22,
   "metadata": {},
   "outputs": [
    {
     "name": "stdout",
     "output_type": "stream",
     "text": [
      "1\n",
      "2\n",
      "3\n",
      "4\n"
     ]
    }
   ],
   "source": [
    "#break\n",
    "x = 0\n",
    "while x<7:\n",
    "    x+=1\n",
    "    if(x==5):\n",
    "        break\n",
    "    print(x)\n",
    "    "
   ]
  },
  {
   "cell_type": "code",
   "execution_count": 23,
   "metadata": {},
   "outputs": [
    {
     "name": "stdout",
     "output_type": "stream",
     "text": [
      "1\n",
      "2\n",
      "3\n",
      "4\n"
     ]
    }
   ],
   "source": [
    "#continue\n",
    "x = 0\n",
    "while x<7:\n",
    "    x+=1\n",
    "    if(x==5):\n",
    "        break\n",
    "    print(x)"
   ]
  },
  {
   "cell_type": "code",
   "execution_count": 28,
   "metadata": {},
   "outputs": [
    {
     "name": "stdout",
     "output_type": "stream",
     "text": [
      "1\n",
      "2\n",
      "3\n",
      "4\n",
      "5\n",
      "6\n",
      "7\n",
      "8\n",
      "10\n"
     ]
    }
   ],
   "source": [
    "i = 0\n",
    "while(i<10):\n",
    "    i+=1\n",
    "    if(i==9):\n",
    "        continue\n",
    "    print(i)"
   ]
  },
  {
   "cell_type": "code",
   "execution_count": null,
   "metadata": {},
   "outputs": [],
   "source": []
  }
 ],
 "metadata": {
  "kernelspec": {
   "display_name": "Python 3",
   "language": "python",
   "name": "python3"
  },
  "language_info": {
   "codemirror_mode": {
    "name": "ipython",
    "version": 3
   },
   "file_extension": ".py",
   "mimetype": "text/x-python",
   "name": "python",
   "nbconvert_exporter": "python",
   "pygments_lexer": "ipython3",
   "version": "3.11.0"
  }
 },
 "nbformat": 4,
 "nbformat_minor": 2
}
