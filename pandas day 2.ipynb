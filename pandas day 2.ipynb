{
 "cells": [
  {
   "cell_type": "code",
   "execution_count": null,
   "metadata": {},
   "outputs": [],
   "source": [
    "#Create a fibonacci series\n",
    "for i in range(10):\n",
    "    if i == 1:\n",
    "        print(1)\n",
    "        \n",
    "    "
   ]
  },
  {
   "cell_type": "code",
   "execution_count": 1,
   "metadata": {},
   "outputs": [
    {
     "ename": "IndentationError",
     "evalue": "unexpected indent (2579507116.py, line 4)",
     "output_type": "error",
     "traceback": [
      "\u001b[1;36m  Cell \u001b[1;32mIn[1], line 4\u001b[1;36m\u001b[0m\n\u001b[1;33m    for i in range(8):\u001b[0m\n\u001b[1;37m    ^\u001b[0m\n\u001b[1;31mIndentationError\u001b[0m\u001b[1;31m:\u001b[0m unexpected indent\n"
     ]
    }
   ],
   "source": [
    "# n = 0\n",
    "a = \n",
    "n = int(input())\n",
    "def fibonnaci(n):\n",
    "    for i in range(8):\n",
    "        if i <= 1:\n",
    "            print(1)\n",
    "        else:\n",
    "            return fibonnaci(n-1)+fibonnaci(n-2)\n",
    "                "
   ]
  },
  {
   "cell_type": "code",
   "execution_count": null,
   "metadata": {},
   "outputs": [],
   "source": []
  },
  {
   "cell_type": "code",
   "execution_count": null,
   "metadata": {},
   "outputs": [],
   "source": [
    "0,1,1,2,3,5,8,13,21"
   ]
  },
  {
   "cell_type": "code",
   "execution_count": null,
   "metadata": {},
   "outputs": [],
   "source": [
    "def shift_letters_with_builtins(s):\n",
    "    result = []\n",
    "    for char in s:\n",
    "        if char.islower():  # Check for lowercase\n",
    "            shifted = chr((ord(char) - ord('a') + 1) % 26 + ord('a'))\n",
    "            result.append(shifted)\n",
    "        elif char.isupper():  # Check for uppercase\n",
    "            shifted = chr((ord(char) - ord('A') + 1) % 26 + ord('A'))\n",
    "            result.append(shifted)\n",
    "        else:\n",
    "            result.append(char)  # Non-alphabet characters remain unchanged\n",
    "    return ''.join(result)\n"
   ]
  },
  {
   "cell_type": "code",
   "execution_count": 4,
   "metadata": {},
   "outputs": [],
   "source": [
    "def convert(input_string):\n",
    "    result = []\n",
    "    for char in input_string:\n",
    "        if char.isupper():  # If the character is uppercase\n",
    "            result.append(char.lower())\n",
    "        elif char.islower():  # If the character is lowercase\n",
    "            result.append(char.upper())\n",
    "        else:  # If the character is not a letter\n",
    "            result.append(char)\n",
    "    \n",
    "    # Join the list into a string\n",
    "    return ''.join(result)"
   ]
  },
  {
   "cell_type": "code",
   "execution_count": 5,
   "metadata": {},
   "outputs": [
    {
     "name": "stdout",
     "output_type": "stream",
     "text": [
      "tIJO\n"
     ]
    }
   ],
   "source": [
    "input_string = \"Tijo\"\n",
    "output = convert(input_string)\n",
    "print(output) "
   ]
  },
  {
   "cell_type": "code",
   "execution_count": 6,
   "metadata": {},
   "outputs": [
    {
     "name": "stdout",
     "output_type": "stream",
     "text": [
      "0\n",
      "1\n",
      "2\n",
      "3\n",
      "4\n"
     ]
    }
   ],
   "source": [
    "n = 0\n",
    "while n<5:\n",
    "    print(n)\n",
    "    n+=1"
   ]
  },
  {
   "cell_type": "code",
   "execution_count": 13,
   "metadata": {},
   "outputs": [
    {
     "name": "stdout",
     "output_type": "stream",
     "text": [
      "10\n",
      "9\n",
      "8\n",
      "7\n",
      "6\n",
      "5\n",
      "4\n",
      "3\n"
     ]
    }
   ],
   "source": [
    "for i in range(10,2,-1): #decrement\n",
    "    print(i)"
   ]
  },
  {
   "cell_type": "code",
   "execution_count": 35,
   "metadata": {},
   "outputs": [],
   "source": [
    "def swap_adjacent(s):\n",
    "    result = []\n",
    "    for i in range(0,len(s)-1,2):\n",
    "        result.append(s[i+1]+ s[i])\n",
    "    \n",
    "    if len(s)%2!=0:\n",
    "        result.append(s[-1])\n",
    "    \n",
    "    return''.join(result)"
   ]
  },
  {
   "cell_type": "code",
   "execution_count": 36,
   "metadata": {},
   "outputs": [
    {
     "data": {
      "text/plain": [
       "'1123'"
      ]
     },
     "execution_count": 36,
     "metadata": {},
     "output_type": "execute_result"
    }
   ],
   "source": [
    "''.join(['11','2','3'])"
   ]
  },
  {
   "cell_type": "code",
   "execution_count": 37,
   "metadata": {},
   "outputs": [
    {
     "name": "stdout",
     "output_type": "stream",
     "text": [
      "badcfe\n"
     ]
    }
   ],
   "source": [
    "print(swap_adjacent(\"abcdef\"))"
   ]
  },
  {
   "cell_type": "code",
   "execution_count": 46,
   "metadata": {},
   "outputs": [
    {
     "name": "stdout",
     "output_type": "stream",
     "text": [
      "T\n",
      "i\n",
      "j\n",
      "o\n"
     ]
    }
   ],
   "source": [
    "s = 'Tijo'\n",
    "for i in s:\n",
    "    print(i)"
   ]
  },
  {
   "cell_type": "code",
   "execution_count": 49,
   "metadata": {},
   "outputs": [],
   "source": [
    "result = []\n",
    "s = 'Tijo'\n",
    "for i in range(0,len(s)-1,2):\n",
    "    result.append(s[i+1]+ s[i])"
   ]
  },
  {
   "cell_type": "code",
   "execution_count": 50,
   "metadata": {},
   "outputs": [
    {
     "data": {
      "text/plain": [
       "['iT', 'oj']"
      ]
     },
     "execution_count": 50,
     "metadata": {},
     "output_type": "execute_result"
    }
   ],
   "source": [
    "result"
   ]
  },
  {
   "cell_type": "code",
   "execution_count": 51,
   "metadata": {},
   "outputs": [],
   "source": [
    "def is_palindrome_builtins(s):\n",
    "    # Step 1: Normalize the string (remove non-alphabetic characters and convert to lowercase)\n",
    "    normalized = ''.join(char.lower() for char in s if char.isalpha())\n",
    "\n",
    "    # Step 2: Check if the string is equal to its reverse\n",
    "    return normalized == normalized[::-1]\n"
   ]
  },
  {
   "cell_type": "code",
   "execution_count": 52,
   "metadata": {},
   "outputs": [],
   "source": [
    "#arrays\n",
    "arr = [1,2,3]"
   ]
  },
  {
   "cell_type": "code",
   "execution_count": 53,
   "metadata": {},
   "outputs": [],
   "source": [
    "#Can be used as a stack\n",
    "arr.append(3)"
   ]
  },
  {
   "cell_type": "code",
   "execution_count": 54,
   "metadata": {},
   "outputs": [
    {
     "data": {
      "text/plain": [
       "3"
      ]
     },
     "execution_count": 54,
     "metadata": {},
     "output_type": "execute_result"
    }
   ],
   "source": [
    "arr.pop(3)"
   ]
  },
  {
   "cell_type": "code",
   "execution_count": 55,
   "metadata": {},
   "outputs": [
    {
     "data": {
      "text/plain": [
       "[1, 2, 3]"
      ]
     },
     "execution_count": 55,
     "metadata": {},
     "output_type": "execute_result"
    }
   ],
   "source": [
    "arr"
   ]
  },
  {
   "cell_type": "code",
   "execution_count": 56,
   "metadata": {},
   "outputs": [],
   "source": [
    "arr.insert(2,6)"
   ]
  },
  {
   "cell_type": "code",
   "execution_count": 57,
   "metadata": {},
   "outputs": [
    {
     "data": {
      "text/plain": [
       "[1, 2, 6, 3]"
      ]
     },
     "execution_count": 57,
     "metadata": {},
     "output_type": "execute_result"
    }
   ],
   "source": [
    "arr"
   ]
  },
  {
   "cell_type": "code",
   "execution_count": 58,
   "metadata": {},
   "outputs": [],
   "source": [
    "arr = [i for i in range(2)]"
   ]
  },
  {
   "cell_type": "code",
   "execution_count": 59,
   "metadata": {},
   "outputs": [
    {
     "data": {
      "text/plain": [
       "[0, 1]"
      ]
     },
     "execution_count": 59,
     "metadata": {},
     "output_type": "execute_result"
    }
   ],
   "source": [
    "arr"
   ]
  },
  {
   "cell_type": "code",
   "execution_count": 61,
   "metadata": {},
   "outputs": [
    {
     "data": {
      "text/plain": [
       "'4'"
      ]
     },
     "execution_count": 61,
     "metadata": {},
     "output_type": "execute_result"
    }
   ],
   "source": [
    "lst = ['1','2','4']\n",
    "lst[2]"
   ]
  },
  {
   "cell_type": "code",
   "execution_count": 62,
   "metadata": {},
   "outputs": [
    {
     "name": "stdout",
     "output_type": "stream",
     "text": [
      "   Year Product  Top_Customer_ID  Sales\n",
      "0  2023       A                1    500\n",
      "1  2023       B                2    250\n",
      "2  2023       C                3    300\n",
      "3  2024       B                2    500\n"
     ]
    }
   ],
   "source": [
    "#I have a df with # DATE, INVOICE_ID, CUST_ID, PROD_ID, QTY ,UNIT_PRICE I want to output \n",
    "# Output - Year, Product, Top customer ID, Sales\n",
    "import pandas as pd\n",
    "\n",
    "# Sample DataFrame\n",
    "data = {\n",
    "    'DATE': ['2023-01-15', '2023-02-20', '2023-01-15', '2023-01-15', '2024-03-10'],\n",
    "    'INVOICE_ID': [101, 102, 101, 103, 104],\n",
    "    'CUST_ID': [1, 2, 1, 3, 2],\n",
    "    'PROD_ID': ['A', 'B', 'A', 'C', 'B'],\n",
    "    'QTY': [10, 5, 15, 20, 10],\n",
    "    'UNIT_PRICE': [20, 50, 20, 15, 50]\n",
    "}\n",
    "\n",
    "df = pd.DataFrame(data)\n",
    "\n",
    "# Convert DATE column to datetime and extract year\n",
    "df['DATE'] = pd.to_datetime(df['DATE'])\n",
    "df['Year'] = df['DATE'].dt.year\n",
    "\n",
    "# Calculate sales (QTY * UNIT_PRICE)\n",
    "df['Sales'] = df['QTY'] * df['UNIT_PRICE']\n",
    "\n",
    "# Group by Year, Product, and Customer to calculate total sales for each customer per product and year\n",
    "grouped = df.groupby(['Year', 'PROD_ID', 'CUST_ID'], as_index=False)['Sales'].sum()\n",
    "\n",
    "# Identify the top customer for each Year and Product\n",
    "top_customers = (\n",
    "    grouped.loc[grouped.groupby(['Year', 'PROD_ID'])['Sales'].idxmax()]\n",
    "    .rename(columns={'CUST_ID': 'Top_Customer_ID', 'PROD_ID': 'Product'})\n",
    ")\n",
    "\n",
    "# Final output with selected columns\n",
    "output = top_customers[['Year', 'Product', 'Top_Customer_ID', 'Sales']]\n",
    "\n",
    "# Display the result\n",
    "print(output)\n"
   ]
  },
  {
   "cell_type": "code",
   "execution_count": 64,
   "metadata": {},
   "outputs": [],
   "source": [
    "import pandas as pd\n",
    "\n",
    "# Sample Employee Table\n",
    "data = {\n",
    "    'id': [101, 102, 103, 104, 105, 106],\n",
    "    'name': ['John', 'Dan', 'James', 'Amy', 'Anne', 'Ron'],\n",
    "    'department': ['A', 'A', 'A', 'A', 'A', 'B'],\n",
    "    'managerId': [None, 101, 101, 101, 101, 101]\n",
    "}\n",
    "employee = pd.DataFrame(data)\n",
    "\n",
    "# Step 1: Count direct reports for each manager\n",
    "report_counts = employee.groupby('managerId').size().reset_index(name='report_count')"
   ]
  },
  {
   "cell_type": "code",
   "execution_count": 65,
   "metadata": {},
   "outputs": [
    {
     "data": {
      "text/html": [
       "<div>\n",
       "<style scoped>\n",
       "    .dataframe tbody tr th:only-of-type {\n",
       "        vertical-align: middle;\n",
       "    }\n",
       "\n",
       "    .dataframe tbody tr th {\n",
       "        vertical-align: top;\n",
       "    }\n",
       "\n",
       "    .dataframe thead th {\n",
       "        text-align: right;\n",
       "    }\n",
       "</style>\n",
       "<table border=\"1\" class=\"dataframe\">\n",
       "  <thead>\n",
       "    <tr style=\"text-align: right;\">\n",
       "      <th></th>\n",
       "      <th>managerId</th>\n",
       "      <th>report_count</th>\n",
       "    </tr>\n",
       "  </thead>\n",
       "  <tbody>\n",
       "    <tr>\n",
       "      <th>0</th>\n",
       "      <td>101.0</td>\n",
       "      <td>5</td>\n",
       "    </tr>\n",
       "  </tbody>\n",
       "</table>\n",
       "</div>"
      ],
      "text/plain": [
       "   managerId  report_count\n",
       "0      101.0             5"
      ]
     },
     "execution_count": 65,
     "metadata": {},
     "output_type": "execute_result"
    }
   ],
   "source": [
    "report_counts"
   ]
  },
  {
   "cell_type": "code",
   "execution_count": 66,
   "metadata": {},
   "outputs": [
    {
     "data": {
      "text/html": [
       "<div>\n",
       "<style scoped>\n",
       "    .dataframe tbody tr th:only-of-type {\n",
       "        vertical-align: middle;\n",
       "    }\n",
       "\n",
       "    .dataframe tbody tr th {\n",
       "        vertical-align: top;\n",
       "    }\n",
       "\n",
       "    .dataframe thead th {\n",
       "        text-align: right;\n",
       "    }\n",
       "</style>\n",
       "<table border=\"1\" class=\"dataframe\">\n",
       "  <thead>\n",
       "    <tr style=\"text-align: right;\">\n",
       "      <th></th>\n",
       "      <th>managerId</th>\n",
       "      <th>report_count</th>\n",
       "    </tr>\n",
       "  </thead>\n",
       "  <tbody>\n",
       "    <tr>\n",
       "      <th>0</th>\n",
       "      <td>101.0</td>\n",
       "      <td>5</td>\n",
       "    </tr>\n",
       "  </tbody>\n",
       "</table>\n",
       "</div>"
      ],
      "text/plain": [
       "   managerId  report_count\n",
       "0      101.0             5"
      ]
     },
     "execution_count": 66,
     "metadata": {},
     "output_type": "execute_result"
    }
   ],
   "source": [
    "# Step 2: Filter managers with at least 5 direct reports\n",
    "managers_with_5_reports = report_counts[report_counts['report_count'] >= 5]\n",
    "managers_with_5_reports"
   ]
  },
  {
   "cell_type": "code",
   "execution_count": 68,
   "metadata": {},
   "outputs": [
    {
     "name": "stdout",
     "output_type": "stream",
     "text": [
      "   managerId_x  report_count   id  name department  managerId_y\n",
      "0        101.0             5  101  John          A          NaN\n"
     ]
    }
   ],
   "source": [
    "# Step 3: Map managerId to their names\n",
    "result = managers_with_5_reports.merge(employee, left_on='managerId', right_on='id')\n",
    "\n",
    "# Display the result\n",
    "print(result)"
   ]
  },
  {
   "cell_type": "code",
   "execution_count": null,
   "metadata": {},
   "outputs": [],
   "source": [
    "num  =  innt(input('Enter a number'))\n",
    "n1, n2 = 0,1\n",
    "sum = 0\n",
    "if num<=0:\n",
    "    print"
   ]
  }
 ],
 "metadata": {
  "kernelspec": {
   "display_name": "Python 3",
   "language": "python",
   "name": "python3"
  },
  "language_info": {
   "codemirror_mode": {
    "name": "ipython",
    "version": 3
   },
   "file_extension": ".py",
   "mimetype": "text/x-python",
   "name": "python",
   "nbconvert_exporter": "python",
   "pygments_lexer": "ipython3",
   "version": "3.12.1"
  }
 },
 "nbformat": 4,
 "nbformat_minor": 2
}
